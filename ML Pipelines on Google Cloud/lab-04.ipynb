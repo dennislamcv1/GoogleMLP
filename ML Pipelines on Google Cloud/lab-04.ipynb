{
 "cells": [
  {
   "cell_type": "markdown",
   "metadata": {},
   "source": [
    "# Inspecting TFX metadata\n",
    "\n",
    "\n",
    "## Learning Objectives\n",
    "\n",
    "1. Use a GRPC server to access and analyze pipeline artifacts stored in the ML Metadata service of your AI Platform Pipelines instance.\n",
    "\n",
    "In this lab, you will explore TFX pipeline metadata including pipeline and run artifacts. A hosted **AI Platform Pipelines** instance includes the [ML Metadata](https://github.com/google/ml-metadata) service. In **AI Platform Pipelines**, ML Metadata uses *MySQL* as a database backend and can be accessed using a GRPC server."
   ]
  },
  {
   "cell_type": "markdown",
   "metadata": {},
   "source": [
    "## Setup"
   ]
  },
  {
   "cell_type": "code",
   "execution_count": 1,
   "metadata": {},
   "outputs": [],
   "source": [
    "import os\n",
    "import json\n",
    "\n",
    "import ml_metadata\n",
    "import tensorflow_data_validation as tfdv\n",
    "import tensorflow_model_analysis as tfma\n",
    "\n",
    "\n",
    "from ml_metadata.metadata_store import metadata_store\n",
    "from ml_metadata.proto import metadata_store_pb2\n",
    "\n",
    "from tfx.orchestration import metadata\n",
    "from tfx.types import standard_artifacts\n",
    "\n",
    "from tensorflow.python.lib.io import file_io"
   ]
  },
  {
   "cell_type": "code",
   "execution_count": 2,
   "metadata": {},
   "outputs": [
    {
     "name": "stdout",
     "output_type": "stream",
     "text": [
      "TFX version: 0.25.0\n",
      "KFP version: 1.0.4\n"
     ]
    }
   ],
   "source": [
    "!python -c \"import tfx; print('TFX version: {}'.format(tfx.__version__))\"\n",
    "!python -c \"import kfp; print('KFP version: {}'.format(kfp.__version__))\""
   ]
  },
  {
   "cell_type": "markdown",
   "metadata": {},
   "source": [
    "### Option 1: Explore metadata from existing TFX pipeline runs from AI Pipelines instance created in `lab-02` or `lab-03`."
   ]
  },
  {
   "cell_type": "markdown",
   "metadata": {},
   "source": [
    "#### 1.1 Configure Kubernetes port forwarding\n",
    "\n",
    "To enable access to the ML Metadata GRPC server, configure Kubernetes port forwarding.\n",
    "\n",
    "From a JupyterLab terminal, execute the following commands:\n",
    "\n",
    "```\n",
    "gcloud container clusters get-credentials [YOUR CLUSTER] --zone [YOUR CLUSTER ZONE]  \n",
    "kubectl port-forward  service/metadata-grpc-service --namespace [YOUR NAMESPACE] 7000:8080\n",
    "```"
   ]
  },
  {
   "cell_type": "markdown",
   "metadata": {},
   "source": [
    "Proceed to the next step, \"Connecting to ML Metadata\"."
   ]
  },
  {
   "cell_type": "markdown",
   "metadata": {},
   "source": [
    "### Option 2: Create new AI Pipelines instance and evaluate metadata on newly triggered pipeline runs.\n",
    "\n",
    "Hosted AI Pipelines incurs cost for the duration your Kubernetes cluster is running. If you deleted your previous lab instance, proceed with the 6 steps below to deploy a new TFX pipeline and triggers runs to inspect its metadata."
   ]
  },
  {
   "cell_type": "code",
   "execution_count": 3,
   "metadata": {},
   "outputs": [
    {
     "name": "stdout",
     "output_type": "stream",
     "text": [
      "env: PATH=/home/jupyter/.local/bin:/opt/conda/bin:/opt/conda/condabin:/usr/local/bin:/usr/bin:/bin:/usr/local/games:/usr/games\n"
     ]
    }
   ],
   "source": [
    "import yaml\n",
    "\n",
    "# Set `PATH` to include the directory containing TFX CLI.\n",
    "PATH=%env PATH\n",
    "%env PATH=/home/jupyter/.local/bin:{PATH}"
   ]
  },
  {
   "cell_type": "markdown",
   "metadata": {},
   "source": [
    "The pipeline source can be found in the `pipeline` folder. Switch to the `pipeline` folder and compile the pipeline."
   ]
  },
  {
   "cell_type": "code",
   "execution_count": 4,
   "metadata": {},
   "outputs": [
    {
     "name": "stdout",
     "output_type": "stream",
     "text": [
      "/home/jupyter/mlops-on-gcp/workshops/tfx-caip-tf23/lab-04-tfx-metadata/labs/pipeline\n"
     ]
    }
   ],
   "source": [
    "%cd pipeline"
   ]
  },
  {
   "cell_type": "markdown",
   "metadata": {},
   "source": [
    "#### 2.1 Create AI Platform Pipelines cluster\n",
    "\n",
    "Navigate to [AI Platform Pipelines](https://console.cloud.google.com/ai-platform/pipelines/clusters) page in the Google Cloud Console.\n",
    "\n",
    "Create or select an existing Kubernetes cluster (GKE) and deploy AI Platform. Make sure to select `\"Allow access to the following Cloud APIs https://www.googleapis.com/auth/cloud-platform\"` to allow for programmatic access to your pipeline by the Kubeflow SDK for the rest of the lab. Also, provide an `App instance name` such as \"TFX-lab-04\"."
   ]
  },
  {
   "cell_type": "markdown",
   "metadata": {},
   "source": [
    "#### 2.2 Configure environment settings"
   ]
  },
  {
   "cell_type": "markdown",
   "metadata": {},
   "source": [
    "Update  the below constants  with the settings reflecting your lab environment.\n",
    "\n",
    "- `GCP_REGION` - the compute region for AI Platform Training and Prediction\n",
    "- `ARTIFACT_STORE` - the GCS bucket created during installation of AI Platform Pipelines. The bucket name starts with the `kubeflowpipelines-` prefix. Alternatively, you can specify create a new storage bucket to write pipeline artifacts to. When specifying the bucket, do not use the trailing slash (/) at the end of the bucket name."
   ]
  },
  {
   "cell_type": "code",
   "execution_count": 5,
   "metadata": {},
   "outputs": [
    {
     "name": "stdout",
     "output_type": "stream",
     "text": [
      "gs://qwiklabs-gcp-01-979b0536901d-kubeflowpipelines-default/\n"
     ]
    }
   ],
   "source": [
    "!gsutil ls"
   ]
  },
  {
   "cell_type": "markdown",
   "metadata": {},
   "source": [
    "* `CUSTOM_SERVICE_ACCOUNT` - In the gcp console Click on the Navigation Menu. Navigate to `IAM & Admin`, then to `Service Accounts` and use the service account starting with prefix - `'tfx-tuner-caip-service-account'`. This enables CloudTuner and the Google Cloud AI Platform extensions Tuner component to work together and allows for distributed and parallel tuning backed by AI Platform Vizier's hyperparameter search algorithm. Please see the lab setup `README` for setup instructions."
   ]
  },
  {
   "cell_type": "markdown",
   "metadata": {},
   "source": [
    "- `ENDPOINT` - set the `ENDPOINT` constant to the endpoint to your AI Platform Pipelines instance. The endpoint to the AI Platform Pipelines instance can be found on the [AI Platform Pipelines](https://console.cloud.google.com/ai-platform/pipelines/clusters) page in the Google Cloud Console.\n",
    "\n",
    "1. Open the *SETTINGS* for your instance\n",
    "2. Use the value of the `host` variable in the *Connect to this Kubeflow Pipelines instance from a Python client via Kubeflow Pipelines SKD* section of the *SETTINGS* window."
   ]
  },
  {
   "cell_type": "code",
   "execution_count": 6,
   "metadata": {},
   "outputs": [],
   "source": [
    "#TODO: Set your environment resource settings here for GCP_REGION, ARTIFACT_STORE_URI, ENDPOINT, and CUSTOM_SERVICE_ACCOUNT.\n",
    "GCP_REGION = 'us-central1'\n",
    "ARTIFACT_STORE_URI = 'gs://qwiklabs-gcp-01-979b0536901d-kubeflowpipelines-default' #Change\n",
    "ENDPOINT = 'https://262ce37f48838f9f-dot-us-central1.pipelines.googleusercontent.com' #Change\n",
    "CUSTOM_SERVICE_ACCOUNT = 'tfx-tuner-caip-service-account@qwiklabs-gcp-01-979b0536901d.iam.gserviceaccount.com' #Change\n",
    "\n",
    "PROJECT_ID = !(gcloud config get-value core/project)\n",
    "PROJECT_ID = PROJECT_ID[0]"
   ]
  },
  {
   "cell_type": "code",
   "execution_count": 7,
   "metadata": {},
   "outputs": [
    {
     "name": "stdout",
     "output_type": "stream",
     "text": [
      "env: GCP_REGION=us-central1\n",
      "env: ARTIFACT_STORE_URI=gs://qwiklabs-gcp-01-979b0536901d-kubeflowpipelines-default\n",
      "env: CUSTOM_SERVICE_ACCOUNT=tfx-tuner-caip-service-account@qwiklabs-gcp-01-979b0536901d.iam.gserviceaccount.com\n",
      "env: PROJECT_ID=qwiklabs-gcp-01-979b0536901d\n"
     ]
    }
   ],
   "source": [
    "# Set your resource settings as environment variables. These override the default values in pipeline/config.py.\n",
    "%env GCP_REGION={GCP_REGION}\n",
    "%env ARTIFACT_STORE_URI={ARTIFACT_STORE_URI}\n",
    "%env CUSTOM_SERVICE_ACCOUNT={CUSTOM_SERVICE_ACCOUNT}\n",
    "%env PROJECT_ID={PROJECT_ID}"
   ]
  },
  {
   "cell_type": "markdown",
   "metadata": {},
   "source": [
    "#### 2.3 Compile pipeline"
   ]
  },
  {
   "cell_type": "code",
   "execution_count": 8,
   "metadata": {},
   "outputs": [],
   "source": [
    "PIPELINE_NAME = 'tfx_covertype_lab_04'\n",
    "MODEL_NAME = 'tfx_covertype_classifier'\n",
    "DATA_ROOT_URI = 'gs://cloud-training/OCBL203/workshop-datasets'\n",
    "CUSTOM_TFX_IMAGE = 'gcr.io/{}/{}'.format(PROJECT_ID, PIPELINE_NAME)\n",
    "RUNTIME_VERSION = '2.3'\n",
    "PYTHON_VERSION = '3.7'\n",
    "USE_KFP_SA=False\n",
    "ENABLE_TUNING=True"
   ]
  },
  {
   "cell_type": "code",
   "execution_count": 9,
   "metadata": {},
   "outputs": [
    {
     "name": "stdout",
     "output_type": "stream",
     "text": [
      "env: PIPELINE_NAME=tfx_covertype_lab_04\n",
      "env: MODEL_NAME=tfx_covertype_classifier\n",
      "env: DATA_ROOT_URI=gs://cloud-training/OCBL203/workshop-datasets\n",
      "env: KUBEFLOW_TFX_IMAGE=gcr.io/qwiklabs-gcp-01-979b0536901d/tfx_covertype_lab_04\n",
      "env: RUNTIME_VERSION=2.3\n",
      "env: PYTHON_VERIONS=3.7\n",
      "env: USE_KFP_SA=False\n",
      "env: ENABLE_TUNING=True\n"
     ]
    }
   ],
   "source": [
    "%env PIPELINE_NAME={PIPELINE_NAME}\n",
    "%env MODEL_NAME={MODEL_NAME}\n",
    "%env DATA_ROOT_URI={DATA_ROOT_URI}\n",
    "%env KUBEFLOW_TFX_IMAGE={CUSTOM_TFX_IMAGE}\n",
    "%env RUNTIME_VERSION={RUNTIME_VERSION}\n",
    "%env PYTHON_VERIONS={PYTHON_VERSION}\n",
    "%env USE_KFP_SA={USE_KFP_SA}\n",
    "%env ENABLE_TUNING={ENABLE_TUNING}"
   ]
  },
  {
   "cell_type": "code",
   "execution_count": 10,
   "metadata": {},
   "outputs": [
    {
     "name": "stdout",
     "output_type": "stream",
     "text": [
      "CLI\n",
      "Compiling pipeline\n",
      "WARNING:absl:RuntimeParameter is only supported on Cloud-based DAG runner currently.\n",
      "WARNING:absl:RuntimeParameter is only supported on Cloud-based DAG runner currently.\n",
      "WARNING:absl:RuntimeParameter is only supported on Cloud-based DAG runner currently.\n",
      "WARNING:absl:RuntimeParameter is only supported on Cloud-based DAG runner currently.\n",
      "WARNING:absl:`instance_name` is deprecated, please set node id directly using`with_id()` or `.id` setter.\n",
      "WARNING:absl:`instance_name` is deprecated, please set node id directly using`with_id()` or `.id` setter.\n",
      "\u001b[0mPipeline compiled successfully.\n",
      "Pipeline package path: /home/jupyter/mlops-on-gcp/workshops/tfx-caip-tf23/lab-04-tfx-metadata/labs/pipeline/tfx_covertype_lab_04.tar.gz\n"
     ]
    }
   ],
   "source": [
    "!tfx pipeline compile --engine kubeflow --pipeline_path runner.py"
   ]
  },
  {
   "cell_type": "markdown",
   "metadata": {},
   "source": [
    "#### 2.4 Deploy pipeline to AI Platform"
   ]
  },
  {
   "cell_type": "code",
   "execution_count": 11,
   "metadata": {},
   "outputs": [
    {
     "name": "stdout",
     "output_type": "stream",
     "text": [
      "CLI\n",
      "Creating pipeline\n",
      "Detected Kubeflow.\n",
      "Use --engine flag if you intend to use a different orchestrator.\n",
      "Reading build spec from build.yaml\n",
      "[Skaffold] Generating tags...\n",
      "[Skaffold]  - gcr.io/qwiklabs-gcp-01-979b0536901d/tfx_covertype_lab_04 -> gcr.io/qwiklabs-gcp-01-979b0536901d/tfx_covertype_lab_04:latest\n",
      "[Skaffold] Checking cache...\n",
      "[Skaffold]  - gcr.io/qwiklabs-gcp-01-979b0536901d/tfx_covertype_lab_04: Not found. Building\n",
      "[Skaffold] Starting build...\n",
      "[Skaffold] Building [gcr.io/qwiklabs-gcp-01-979b0536901d/tfx_covertype_lab_04]...\n",
      "[Skaffold] #1 [internal] load .dockerignore\n",
      "[Skaffold] #1 transferring context: 2B done\n",
      "[Skaffold] #1 DONE 0.1s\n",
      "[Skaffold] \n",
      "[Skaffold] #2 [internal] load build definition from Dockerfile\n",
      "[Skaffold] #2 transferring dockerfile: 134B done\n",
      "[Skaffold] #2 DONE 0.1s\n",
      "[Skaffold] \n",
      "[Skaffold] #3 [internal] load metadata for docker.io/tensorflow/tfx:0.25.0\n",
      "[Skaffold] #3 DONE 0.6s\n",
      "[Skaffold] \n",
      "[Skaffold] #4 [internal] load build context\n",
      "[Skaffold] #4 transferring context: 48.40kB done\n",
      "[Skaffold] #4 DONE 0.0s\n",
      "[Skaffold] \n",
      "[Skaffold] #5 [1/3] FROM docker.io/tensorflow/tfx:0.25.0@sha256:0700c27c6492b8b2998e7d543ca13088db8d40ef26bd5c6eec58245ff8cdec35\n",
      "[Skaffold] #5 resolve docker.io/tensorflow/tfx:0.25.0@sha256:0700c27c6492b8b2998e7d543ca13088db8d40ef26bd5c6eec58245ff8cdec35 done\n",
      "[Skaffold] #5 sha256:0700c27c6492b8b2998e7d543ca13088db8d40ef26bd5c6eec58245ff8cdec35 2.85kB / 2.85kB done\n",
      "[Skaffold] #5 sha256:831c222b21d8d78fd475c38622ca0d892d0899fdda283251f5b02bcb0b945d84 0B / 10.20MB 0.0s\n",
      "[Skaffold] #5 sha256:05d9b228cf63233a5dc37f474c29ddaadff8c2d0aa7df269802b1641e8eaea51 7.36kB / 7.36kB done\n",
      "[Skaffold] #5 sha256:bd47987755ba5e5a41a43bb514db39abded9ea182367ea095d27bb248e3fbf7d 0B / 44.53MB 0.0s\n",
      "[Skaffold] #5 sha256:3c2cba919283a210665e480bcbf943eaaf4ed87a83f02e81bb286b8bdead0e75 0B / 49B 0.0s\n",
      "[Skaffold] #5 sha256:831c222b21d8d78fd475c38622ca0d892d0899fdda283251f5b02bcb0b945d84 617.72kB / 10.20MB 0.1s\n",
      "[Skaffold] #5 sha256:831c222b21d8d78fd475c38622ca0d892d0899fdda283251f5b02bcb0b945d84 7.00MB / 10.20MB 0.3s\n",
      "[Skaffold] #5 sha256:bd47987755ba5e5a41a43bb514db39abded9ea182367ea095d27bb248e3fbf7d 10.89MB / 44.53MB 0.3s\n",
      "[Skaffold] #5 sha256:3c2cba919283a210665e480bcbf943eaaf4ed87a83f02e81bb286b8bdead0e75 49B / 49B 0.2s done\n",
      "[Skaffold] #5 sha256:e378d88a5f590a1106078d781af78bddc23e6a26bb5e65e94511ec2d65f5536a 0B / 317.94MB 0.3s\n",
      "[Skaffold] #5 sha256:831c222b21d8d78fd475c38622ca0d892d0899fdda283251f5b02bcb0b945d84 10.20MB / 10.20MB 0.3s\n",
      "[Skaffold] #5 sha256:bd47987755ba5e5a41a43bb514db39abded9ea182367ea095d27bb248e3fbf7d 16.95MB / 44.53MB 0.3s\n",
      "[Skaffold] #5 sha256:831c222b21d8d78fd475c38622ca0d892d0899fdda283251f5b02bcb0b945d84 10.20MB / 10.20MB 0.4s done\n",
      "[Skaffold] #5 sha256:bd47987755ba5e5a41a43bb514db39abded9ea182367ea095d27bb248e3fbf7d 32.26MB / 44.53MB 0.6s\n",
      "[Skaffold] #5 sha256:e378d88a5f590a1106078d781af78bddc23e6a26bb5e65e94511ec2d65f5536a 16.78MB / 317.94MB 0.6s\n",
      "[Skaffold] #5 sha256:df37508d2f5c9a1e8883b204d04d37b1cbd7754a1bc765b8d72c36f7b90d37df 0B / 324.06MB 0.6s\n",
      "[Skaffold] #5 sha256:bd47987755ba5e5a41a43bb514db39abded9ea182367ea095d27bb248e3fbf7d 39.38MB / 44.53MB 0.7s\n",
      "[Skaffold] #5 sha256:bd47987755ba5e5a41a43bb514db39abded9ea182367ea095d27bb248e3fbf7d 44.53MB / 44.53MB 0.9s\n",
      "[Skaffold] #5 sha256:e378d88a5f590a1106078d781af78bddc23e6a26bb5e65e94511ec2d65f5536a 33.41MB / 317.94MB 0.9s\n",
      "[Skaffold] #5 sha256:df37508d2f5c9a1e8883b204d04d37b1cbd7754a1bc765b8d72c36f7b90d37df 18.65MB / 324.06MB 0.9s\n",
      "[Skaffold] #5 sha256:bd47987755ba5e5a41a43bb514db39abded9ea182367ea095d27bb248e3fbf7d 44.53MB / 44.53MB 1.1s done\n",
      "[Skaffold] #5 sha256:e378d88a5f590a1106078d781af78bddc23e6a26bb5e65e94511ec2d65f5536a 91.61MB / 317.94MB 1.9s\n",
      "[Skaffold] #5 sha256:df37508d2f5c9a1e8883b204d04d37b1cbd7754a1bc765b8d72c36f7b90d37df 68.86MB / 324.06MB 1.9s\n",
      "[Skaffold] #5 sha256:c28e7cc900d1694e0e795239419bc679665e8abc02ba40c30d7794836d1d7640 4.71MB / 162.53MB 1.9s\n",
      "[Skaffold] #5 sha256:c28e7cc900d1694e0e795239419bc679665e8abc02ba40c30d7794836d1d7640 13.48MB / 162.53MB 2.1s\n",
      "[Skaffold] #5 sha256:e378d88a5f590a1106078d781af78bddc23e6a26bb5e65e94511ec2d65f5536a 112.10MB / 317.94MB 2.4s\n",
      "[Skaffold] #5 sha256:df37508d2f5c9a1e8883b204d04d37b1cbd7754a1bc765b8d72c36f7b90d37df 92.41MB / 324.06MB 2.4s\n",
      "[Skaffold] #5 sha256:c28e7cc900d1694e0e795239419bc679665e8abc02ba40c30d7794836d1d7640 28.33MB / 162.53MB 2.4s\n",
      "[Skaffold] #5 sha256:c28e7cc900d1694e0e795239419bc679665e8abc02ba40c30d7794836d1d7640 37.42MB / 162.53MB 2.6s\n",
      "[Skaffold] #5 sha256:e378d88a5f590a1106078d781af78bddc23e6a26bb5e65e94511ec2d65f5536a 130.98MB / 317.94MB 2.9s\n",
      "[Skaffold] #5 sha256:df37508d2f5c9a1e8883b204d04d37b1cbd7754a1bc765b8d72c36f7b90d37df 117.14MB / 324.06MB 2.9s\n",
      "[Skaffold] #5 sha256:c28e7cc900d1694e0e795239419bc679665e8abc02ba40c30d7794836d1d7640 54.09MB / 162.53MB 2.9s\n",
      "[Skaffold] #5 sha256:c28e7cc900d1694e0e795239419bc679665e8abc02ba40c30d7794836d1d7640 62.35MB / 162.53MB 3.1s\n",
      "[Skaffold] #5 sha256:e378d88a5f590a1106078d781af78bddc23e6a26bb5e65e94511ec2d65f5536a 151.05MB / 317.94MB 3.3s\n",
      "[Skaffold] #5 sha256:df37508d2f5c9a1e8883b204d04d37b1cbd7754a1bc765b8d72c36f7b90d37df 136.47MB / 324.06MB 3.3s\n",
      "[Skaffold] #5 sha256:c28e7cc900d1694e0e795239419bc679665e8abc02ba40c30d7794836d1d7640 74.98MB / 162.53MB 3.5s\n",
      "[Skaffold] #5 sha256:e378d88a5f590a1106078d781af78bddc23e6a26bb5e65e94511ec2d65f5536a 167.55MB / 317.94MB 3.7s\n",
      "[Skaffold] #5 sha256:c28e7cc900d1694e0e795239419bc679665e8abc02ba40c30d7794836d1d7640 84.97MB / 162.53MB 3.7s\n",
      "[Skaffold] #5 extracting sha256:bd47987755ba5e5a41a43bb514db39abded9ea182367ea095d27bb248e3fbf7d\n",
      "[Skaffold] #5 sha256:df37508d2f5c9a1e8883b204d04d37b1cbd7754a1bc765b8d72c36f7b90d37df 160.83MB / 324.06MB 3.9s\n",
      "[Skaffold] #5 sha256:c28e7cc900d1694e0e795239419bc679665e8abc02ba40c30d7794836d1d7640 94.20MB / 162.53MB 3.9s\n",
      "[Skaffold] #5 sha256:e378d88a5f590a1106078d781af78bddc23e6a26bb5e65e94511ec2d65f5536a 186.25MB / 317.94MB 4.1s\n",
      "[Skaffold] #5 sha256:c28e7cc900d1694e0e795239419bc679665e8abc02ba40c30d7794836d1d7640 104.38MB / 162.53MB 4.2s\n",
      "[Skaffold] #5 sha256:df37508d2f5c9a1e8883b204d04d37b1cbd7754a1bc765b8d72c36f7b90d37df 178.94MB / 324.06MB 4.4s\n",
      "[Skaffold] #5 sha256:c28e7cc900d1694e0e795239419bc679665e8abc02ba40c30d7794836d1d7640 114.92MB / 162.53MB 4.4s\n",
      "[Skaffold] #5 sha256:e378d88a5f590a1106078d781af78bddc23e6a26bb5e65e94511ec2d65f5536a 204.59MB / 317.94MB 4.5s\n",
      "[Skaffold] #5 sha256:c28e7cc900d1694e0e795239419bc679665e8abc02ba40c30d7794836d1d7640 125.82MB / 162.53MB 4.8s\n",
      "[Skaffold] #5 sha256:df37508d2f5c9a1e8883b204d04d37b1cbd7754a1bc765b8d72c36f7b90d37df 195.71MB / 324.06MB 4.9s\n",
      "[Skaffold] #5 sha256:e378d88a5f590a1106078d781af78bddc23e6a26bb5e65e94511ec2d65f5536a 224.38MB / 317.94MB 5.1s\n",
      "[Skaffold] #5 sha256:c28e7cc900d1694e0e795239419bc679665e8abc02ba40c30d7794836d1d7640 135.37MB / 162.53MB 5.1s\n",
      "[Skaffold] #5 sha256:df37508d2f5c9a1e8883b204d04d37b1cbd7754a1bc765b8d72c36f7b90d37df 215.92MB / 324.06MB 5.5s\n",
      "[Skaffold] #5 sha256:c28e7cc900d1694e0e795239419bc679665e8abc02ba40c30d7794836d1d7640 148.28MB / 162.53MB 5.5s\n",
      "[Skaffold] #5 sha256:e378d88a5f590a1106078d781af78bddc23e6a26bb5e65e94511ec2d65f5536a 241.22MB / 317.94MB 5.7s\n",
      "[Skaffold] #5 sha256:e378d88a5f590a1106078d781af78bddc23e6a26bb5e65e94511ec2d65f5536a 259.51MB / 317.94MB 6.1s\n",
      "[Skaffold] #5 sha256:df37508d2f5c9a1e8883b204d04d37b1cbd7754a1bc765b8d72c36f7b90d37df 233.35MB / 324.06MB 6.1s\n",
      "[Skaffold] #5 sha256:c28e7cc900d1694e0e795239419bc679665e8abc02ba40c30d7794836d1d7640 162.53MB / 162.53MB 6.1s\n",
      "[Skaffold] #5 sha256:e378d88a5f590a1106078d781af78bddc23e6a26bb5e65e94511ec2d65f5536a 280.32MB / 317.94MB 6.4s\n",
      "[Skaffold] #5 sha256:df37508d2f5c9a1e8883b204d04d37b1cbd7754a1bc765b8d72c36f7b90d37df 251.35MB / 324.06MB 6.4s\n",
      "[Skaffold] #5 sha256:e378d88a5f590a1106078d781af78bddc23e6a26bb5e65e94511ec2d65f5536a 308.46MB / 317.94MB 6.9s\n",
      "[Skaffold] #5 sha256:df37508d2f5c9a1e8883b204d04d37b1cbd7754a1bc765b8d72c36f7b90d37df 282.44MB / 324.06MB 6.9s\n",
      "[Skaffold] #5 sha256:df37508d2f5c9a1e8883b204d04d37b1cbd7754a1bc765b8d72c36f7b90d37df 305.08MB / 324.06MB 7.2s\n",
      "[Skaffold] #5 sha256:df37508d2f5c9a1e8883b204d04d37b1cbd7754a1bc765b8d72c36f7b90d37df 324.06MB / 324.06MB 7.4s\n",
      "[Skaffold] #5 sha256:c28e7cc900d1694e0e795239419bc679665e8abc02ba40c30d7794836d1d7640 162.53MB / 162.53MB 7.8s done\n",
      "[Skaffold] #5 extracting sha256:bd47987755ba5e5a41a43bb514db39abded9ea182367ea095d27bb248e3fbf7d 5.3s\n",
      "[Skaffold] #5 sha256:9019978541a7e6c7d3721643cd10251c5394315944e76929056f46cbd6f2e8d6 0B / 7.93MB 8.8s\n",
      "[Skaffold] #5 sha256:9019978541a7e6c7d3721643cd10251c5394315944e76929056f46cbd6f2e8d6 4.53MB / 7.93MB 8.9s\n",
      "[Skaffold] #5 sha256:e378d88a5f590a1106078d781af78bddc23e6a26bb5e65e94511ec2d65f5536a 317.94MB / 317.94MB 9.0s done\n",
      "[Skaffold] #5 sha256:df37508d2f5c9a1e8883b204d04d37b1cbd7754a1bc765b8d72c36f7b90d37df 324.06MB / 324.06MB 9.0s done\n",
      "[Skaffold] #5 sha256:9019978541a7e6c7d3721643cd10251c5394315944e76929056f46cbd6f2e8d6 7.93MB / 7.93MB 9.0s done\n",
      "[Skaffold] #5 sha256:afebcf787e04cc5eac5c15ece7fa3cd6665d1256b37ebadd947d93793e1a748a 0B / 246.48MB 9.2s\n",
      "[Skaffold] #5 sha256:80dc388c898ccf048dd63c09c4e66748f8a7eeafebb8fa1e3e1e0c8007c0c4da 7.94MB / 739.98MB 9.2s\n",
      "[Skaffold] #5 sha256:b32cc97043126eb1aaa0ca0b39f1713e76a0c3977054a2a4211788f27d0b2707 0B / 519.69MB 9.2s\n",
      "[Skaffold] #5 sha256:afebcf787e04cc5eac5c15ece7fa3cd6665d1256b37ebadd947d93793e1a748a 16.17MB / 246.48MB 9.8s\n",
      "[Skaffold] #5 sha256:b32cc97043126eb1aaa0ca0b39f1713e76a0c3977054a2a4211788f27d0b2707 32.18MB / 519.69MB 9.8s\n",
      "[Skaffold] #5 sha256:80dc388c898ccf048dd63c09c4e66748f8a7eeafebb8fa1e3e1e0c8007c0c4da 45.44MB / 739.98MB 9.9s\n",
      "[Skaffold] #5 sha256:afebcf787e04cc5eac5c15ece7fa3cd6665d1256b37ebadd947d93793e1a748a 30.69MB / 246.48MB 10.2s\n",
      "[Skaffold] #5 sha256:afebcf787e04cc5eac5c15ece7fa3cd6665d1256b37ebadd947d93793e1a748a 45.58MB / 246.48MB 10.5s\n",
      "[Skaffold] #5 sha256:80dc388c898ccf048dd63c09c4e66748f8a7eeafebb8fa1e3e1e0c8007c0c4da 84.80MB / 739.98MB 10.7s\n",
      "[Skaffold] #5 sha256:b32cc97043126eb1aaa0ca0b39f1713e76a0c3977054a2a4211788f27d0b2707 65.73MB / 519.69MB 10.7s\n",
      "[Skaffold] #5 sha256:afebcf787e04cc5eac5c15ece7fa3cd6665d1256b37ebadd947d93793e1a748a 59.95MB / 246.48MB 10.8s\n",
      "[Skaffold] #5 sha256:afebcf787e04cc5eac5c15ece7fa3cd6665d1256b37ebadd947d93793e1a748a 74.90MB / 246.48MB 11.2s\n",
      "[Skaffold] #5 sha256:afebcf787e04cc5eac5c15ece7fa3cd6665d1256b37ebadd947d93793e1a748a 87.47MB / 246.48MB 11.6s\n",
      "[Skaffold] #5 sha256:b32cc97043126eb1aaa0ca0b39f1713e76a0c3977054a2a4211788f27d0b2707 95.78MB / 519.69MB 11.7s\n",
      "[Skaffold] #5 sha256:afebcf787e04cc5eac5c15ece7fa3cd6665d1256b37ebadd947d93793e1a748a 101.14MB / 246.48MB 11.9s\n",
      "[Skaffold] #5 sha256:80dc388c898ccf048dd63c09c4e66748f8a7eeafebb8fa1e3e1e0c8007c0c4da 129.82MB / 739.98MB 12.1s\n",
      "[Skaffold] #5 sha256:afebcf787e04cc5eac5c15ece7fa3cd6665d1256b37ebadd947d93793e1a748a 118.49MB / 246.48MB 12.3s\n",
      "[Skaffold] #5 sha256:b32cc97043126eb1aaa0ca0b39f1713e76a0c3977054a2a4211788f27d0b2707 121.80MB / 519.69MB 12.3s\n",
      "[Skaffold] #5 sha256:afebcf787e04cc5eac5c15ece7fa3cd6665d1256b37ebadd947d93793e1a748a 134.35MB / 246.48MB 12.7s\n",
      "[Skaffold] #5 sha256:afebcf787e04cc5eac5c15ece7fa3cd6665d1256b37ebadd947d93793e1a748a 147.33MB / 246.48MB 13.1s\n",
      "[Skaffold] #5 sha256:80dc388c898ccf048dd63c09c4e66748f8a7eeafebb8fa1e3e1e0c8007c0c4da 169.16MB / 739.98MB 13.1s\n",
      "[Skaffold] #5 sha256:b32cc97043126eb1aaa0ca0b39f1713e76a0c3977054a2a4211788f27d0b2707 153.39MB / 519.69MB 13.3s\n",
      "[Skaffold] #5 sha256:afebcf787e04cc5eac5c15ece7fa3cd6665d1256b37ebadd947d93793e1a748a 160.16MB / 246.48MB 13.4s\n",
      "[Skaffold] #5 sha256:afebcf787e04cc5eac5c15ece7fa3cd6665d1256b37ebadd947d93793e1a748a 178.73MB / 246.48MB 13.8s\n",
      "[Skaffold] #5 sha256:80dc388c898ccf048dd63c09c4e66748f8a7eeafebb8fa1e3e1e0c8007c0c4da 206.79MB / 739.98MB 13.9s\n",
      "[Skaffold] #5 extracting sha256:bd47987755ba5e5a41a43bb514db39abded9ea182367ea095d27bb248e3fbf7d 10.4s\n",
      "[Skaffold] #5 sha256:afebcf787e04cc5eac5c15ece7fa3cd6665d1256b37ebadd947d93793e1a748a 191.21MB / 246.48MB 14.1s\n",
      "[Skaffold] #5 sha256:b32cc97043126eb1aaa0ca0b39f1713e76a0c3977054a2a4211788f27d0b2707 187.56MB / 519.69MB 14.1s\n",
      "[Skaffold] #5 sha256:afebcf787e04cc5eac5c15ece7fa3cd6665d1256b37ebadd947d93793e1a748a 204.71MB / 246.48MB 14.4s\n",
      "[Skaffold] #5 sha256:afebcf787e04cc5eac5c15ece7fa3cd6665d1256b37ebadd947d93793e1a748a 217.61MB / 246.48MB 14.7s\n",
      "[Skaffold] #5 sha256:80dc388c898ccf048dd63c09c4e66748f8a7eeafebb8fa1e3e1e0c8007c0c4da 244.64MB / 739.98MB 14.7s\n",
      "[Skaffold] #5 sha256:b32cc97043126eb1aaa0ca0b39f1713e76a0c3977054a2a4211788f27d0b2707 220.30MB / 519.69MB 15.0s\n",
      "[Skaffold] #5 sha256:afebcf787e04cc5eac5c15ece7fa3cd6665d1256b37ebadd947d93793e1a748a 233.55MB / 246.48MB 15.1s\n",
      "[Skaffold] #5 sha256:afebcf787e04cc5eac5c15ece7fa3cd6665d1256b37ebadd947d93793e1a748a 246.48MB / 246.48MB 15.6s\n",
      "[Skaffold] #5 sha256:80dc388c898ccf048dd63c09c4e66748f8a7eeafebb8fa1e3e1e0c8007c0c4da 285.31MB / 739.98MB 15.6s\n",
      "[Skaffold] #5 sha256:b32cc97043126eb1aaa0ca0b39f1713e76a0c3977054a2a4211788f27d0b2707 251.19MB / 519.69MB 15.8s\n",
      "[Skaffold] #5 sha256:80dc388c898ccf048dd63c09c4e66748f8a7eeafebb8fa1e3e1e0c8007c0c4da 328.03MB / 739.98MB 16.2s\n",
      "[Skaffold] #5 sha256:b32cc97043126eb1aaa0ca0b39f1713e76a0c3977054a2a4211788f27d0b2707 281.02MB / 519.69MB 16.2s\n",
      "[Skaffold] #5 sha256:b32cc97043126eb1aaa0ca0b39f1713e76a0c3977054a2a4211788f27d0b2707 313.29MB / 519.69MB 16.7s\n",
      "[Skaffold] #5 sha256:80dc388c898ccf048dd63c09c4e66748f8a7eeafebb8fa1e3e1e0c8007c0c4da 368.68MB / 739.98MB 16.9s\n",
      "[Skaffold] #5 sha256:b32cc97043126eb1aaa0ca0b39f1713e76a0c3977054a2a4211788f27d0b2707 341.00MB / 519.69MB 17.1s\n",
      "[Skaffold] #5 sha256:80dc388c898ccf048dd63c09c4e66748f8a7eeafebb8fa1e3e1e0c8007c0c4da 413.92MB / 739.98MB 17.6s\n",
      "[Skaffold] #5 sha256:b32cc97043126eb1aaa0ca0b39f1713e76a0c3977054a2a4211788f27d0b2707 372.27MB / 519.69MB 17.6s\n",
      "[Skaffold] #5 sha256:afebcf787e04cc5eac5c15ece7fa3cd6665d1256b37ebadd947d93793e1a748a 246.48MB / 246.48MB 17.8s done\n",
      "[Skaffold] #5 sha256:b32cc97043126eb1aaa0ca0b39f1713e76a0c3977054a2a4211788f27d0b2707 399.39MB / 519.69MB 18.0s\n",
      "[Skaffold] #5 sha256:80dc388c898ccf048dd63c09c4e66748f8a7eeafebb8fa1e3e1e0c8007c0c4da 458.88MB / 739.98MB 18.3s\n",
      "[Skaffold] #5 sha256:a0336ba74309c55f765d1646412fb242fd31141c990741fcb6eec643c731607e 0B / 23.27kB 18.3s\n",
      "[Skaffold] #5 sha256:b32cc97043126eb1aaa0ca0b39f1713e76a0c3977054a2a4211788f27d0b2707 427.07MB / 519.69MB 18.4s\n",
      "[Skaffold] #5 sha256:a0336ba74309c55f765d1646412fb242fd31141c990741fcb6eec643c731607e 23.27kB / 23.27kB 18.5s\n",
      "[Skaffold] #5 sha256:a0336ba74309c55f765d1646412fb242fd31141c990741fcb6eec643c731607e 23.27kB / 23.27kB 18.8s done\n",
      "[Skaffold] #5 extracting sha256:bd47987755ba5e5a41a43bb514db39abded9ea182367ea095d27bb248e3fbf7d 15.4s\n",
      "[Skaffold] #5 sha256:80dc388c898ccf048dd63c09c4e66748f8a7eeafebb8fa1e3e1e0c8007c0c4da 503.90MB / 739.98MB 19.1s\n",
      "[Skaffold] #5 sha256:b32cc97043126eb1aaa0ca0b39f1713e76a0c3977054a2a4211788f27d0b2707 465.76MB / 519.69MB 19.1s\n",
      "[Skaffold] #5 sha256:b32cc97043126eb1aaa0ca0b39f1713e76a0c3977054a2a4211788f27d0b2707 496.81MB / 519.69MB 19.6s\n",
      "[Skaffold] #5 sha256:80dc388c898ccf048dd63c09c4e66748f8a7eeafebb8fa1e3e1e0c8007c0c4da 544.97MB / 739.98MB 19.8s\n",
      "[Skaffold] #5 sha256:80dc388c898ccf048dd63c09c4e66748f8a7eeafebb8fa1e3e1e0c8007c0c4da 590.84MB / 739.98MB 20.4s\n",
      "[Skaffold] #5 sha256:80dc388c898ccf048dd63c09c4e66748f8a7eeafebb8fa1e3e1e0c8007c0c4da 635.75MB / 739.98MB 20.9s\n",
      "[Skaffold] #5 sha256:80dc388c898ccf048dd63c09c4e66748f8a7eeafebb8fa1e3e1e0c8007c0c4da 672.97MB / 739.98MB 21.2s\n",
      "[Skaffold] #5 sha256:80dc388c898ccf048dd63c09c4e66748f8a7eeafebb8fa1e3e1e0c8007c0c4da 717.47MB / 739.98MB 21.8s\n",
      "[Skaffold] #5 sha256:b32cc97043126eb1aaa0ca0b39f1713e76a0c3977054a2a4211788f27d0b2707 519.69MB / 519.69MB 22.9s done\n",
      "[Skaffold] #5 extracting sha256:bd47987755ba5e5a41a43bb514db39abded9ea182367ea095d27bb248e3fbf7d 19.5s done\n",
      "[Skaffold] #5 sha256:80dc388c898ccf048dd63c09c4e66748f8a7eeafebb8fa1e3e1e0c8007c0c4da 739.98MB / 739.98MB 23.8s done\n",
      "[Skaffold] #5 extracting sha256:831c222b21d8d78fd475c38622ca0d892d0899fdda283251f5b02bcb0b945d84\n",
      "[Skaffold] #5 extracting sha256:831c222b21d8d78fd475c38622ca0d892d0899fdda283251f5b02bcb0b945d84 0.9s done\n",
      "[Skaffold] #5 extracting sha256:3c2cba919283a210665e480bcbf943eaaf4ed87a83f02e81bb286b8bdead0e75 done\n",
      "[Skaffold] #5 extracting sha256:e378d88a5f590a1106078d781af78bddc23e6a26bb5e65e94511ec2d65f5536a\n",
      "[Skaffold] #5 extracting sha256:e378d88a5f590a1106078d781af78bddc23e6a26bb5e65e94511ec2d65f5536a 5.3s\n",
      "[Skaffold] #5 extracting sha256:e378d88a5f590a1106078d781af78bddc23e6a26bb5e65e94511ec2d65f5536a 10.4s\n",
      "[Skaffold] #5 extracting sha256:e378d88a5f590a1106078d781af78bddc23e6a26bb5e65e94511ec2d65f5536a 15.4s\n",
      "[Skaffold] #5 extracting sha256:e378d88a5f590a1106078d781af78bddc23e6a26bb5e65e94511ec2d65f5536a 20.4s\n",
      "[Skaffold] #5 extracting sha256:e378d88a5f590a1106078d781af78bddc23e6a26bb5e65e94511ec2d65f5536a 21.1s done\n",
      "[Skaffold] #5 extracting sha256:df37508d2f5c9a1e8883b204d04d37b1cbd7754a1bc765b8d72c36f7b90d37df 0.1s\n",
      "[Skaffold] #5 extracting sha256:df37508d2f5c9a1e8883b204d04d37b1cbd7754a1bc765b8d72c36f7b90d37df 5.1s\n",
      "[Skaffold] #5 extracting sha256:df37508d2f5c9a1e8883b204d04d37b1cbd7754a1bc765b8d72c36f7b90d37df 10.2s\n",
      "[Skaffold] #5 extracting sha256:df37508d2f5c9a1e8883b204d04d37b1cbd7754a1bc765b8d72c36f7b90d37df 14.2s done\n",
      "[Skaffold] #5 extracting sha256:c28e7cc900d1694e0e795239419bc679665e8abc02ba40c30d7794836d1d7640\n",
      "[Skaffold] #5 extracting sha256:c28e7cc900d1694e0e795239419bc679665e8abc02ba40c30d7794836d1d7640 5.1s\n",
      "[Skaffold] #5 extracting sha256:c28e7cc900d1694e0e795239419bc679665e8abc02ba40c30d7794836d1d7640 10.2s done\n",
      "[Skaffold] #5 extracting sha256:9019978541a7e6c7d3721643cd10251c5394315944e76929056f46cbd6f2e8d6\n",
      "[Skaffold] #5 extracting sha256:9019978541a7e6c7d3721643cd10251c5394315944e76929056f46cbd6f2e8d6 0.9s done\n",
      "[Skaffold] #5 extracting sha256:80dc388c898ccf048dd63c09c4e66748f8a7eeafebb8fa1e3e1e0c8007c0c4da\n",
      "[Skaffold] #5 extracting sha256:80dc388c898ccf048dd63c09c4e66748f8a7eeafebb8fa1e3e1e0c8007c0c4da 5.1s\n",
      "[Skaffold] #5 extracting sha256:80dc388c898ccf048dd63c09c4e66748f8a7eeafebb8fa1e3e1e0c8007c0c4da 10.1s\n",
      "[Skaffold] #5 extracting sha256:80dc388c898ccf048dd63c09c4e66748f8a7eeafebb8fa1e3e1e0c8007c0c4da 15.1s\n",
      "[Skaffold] #5 extracting sha256:80dc388c898ccf048dd63c09c4e66748f8a7eeafebb8fa1e3e1e0c8007c0c4da 20.3s\n",
      "[Skaffold] #5 extracting sha256:80dc388c898ccf048dd63c09c4e66748f8a7eeafebb8fa1e3e1e0c8007c0c4da 25.4s\n",
      "[Skaffold] #5 extracting sha256:80dc388c898ccf048dd63c09c4e66748f8a7eeafebb8fa1e3e1e0c8007c0c4da 29.4s done\n",
      "[Skaffold] #5 extracting sha256:afebcf787e04cc5eac5c15ece7fa3cd6665d1256b37ebadd947d93793e1a748a\n",
      "[Skaffold] #5 extracting sha256:afebcf787e04cc5eac5c15ece7fa3cd6665d1256b37ebadd947d93793e1a748a 5.1s\n",
      "[Skaffold] #5 extracting sha256:afebcf787e04cc5eac5c15ece7fa3cd6665d1256b37ebadd947d93793e1a748a 7.8s done\n",
      "[Skaffold] #5 extracting sha256:b32cc97043126eb1aaa0ca0b39f1713e76a0c3977054a2a4211788f27d0b2707\n",
      "[Skaffold] #5 extracting sha256:b32cc97043126eb1aaa0ca0b39f1713e76a0c3977054a2a4211788f27d0b2707 5.1s\n",
      "[Skaffold] #5 extracting sha256:b32cc97043126eb1aaa0ca0b39f1713e76a0c3977054a2a4211788f27d0b2707 10.2s\n",
      "[Skaffold] #5 extracting sha256:b32cc97043126eb1aaa0ca0b39f1713e76a0c3977054a2a4211788f27d0b2707 15.2s\n",
      "[Skaffold] #5 extracting sha256:b32cc97043126eb1aaa0ca0b39f1713e76a0c3977054a2a4211788f27d0b2707 20.3s\n",
      "[Skaffold] #5 extracting sha256:b32cc97043126eb1aaa0ca0b39f1713e76a0c3977054a2a4211788f27d0b2707 25.5s\n",
      "[Skaffold] #5 extracting sha256:b32cc97043126eb1aaa0ca0b39f1713e76a0c3977054a2a4211788f27d0b2707 30.5s\n",
      "[Skaffold] #5 extracting sha256:b32cc97043126eb1aaa0ca0b39f1713e76a0c3977054a2a4211788f27d0b2707 35.6s\n",
      "[Skaffold] #5 extracting sha256:b32cc97043126eb1aaa0ca0b39f1713e76a0c3977054a2a4211788f27d0b2707 36.5s done\n",
      "[Skaffold] #5 extracting sha256:a0336ba74309c55f765d1646412fb242fd31141c990741fcb6eec643c731607e done\n",
      "[Skaffold] #5 DONE 150.8s\n",
      "[Skaffold] \n",
      "[Skaffold] #6 [2/3] WORKDIR ./pipeline\n",
      "[Skaffold] #6 DONE 1.5s\n",
      "[Skaffold] \n",
      "[Skaffold] #7 [3/3] COPY ./ ./\n",
      "[Skaffold] #7 DONE 0.2s\n",
      "[Skaffold] \n",
      "[Skaffold] #8 exporting to image\n",
      "[Skaffold] #8 exporting layers 0.0s done\n",
      "[Skaffold] #8 writing image sha256:d5c4aa0348fd9e9621ae8b1ed0b808f6650845e2508d5a128276e2d24b2767a8 done\n",
      "[Skaffold] #8 naming to gcr.io/qwiklabs-gcp-01-979b0536901d/tfx_covertype_lab_04:latest 0.0s done\n",
      "[Skaffold] #8 DONE 0.1s\n",
      "[Skaffold] The push refers to repository [gcr.io/qwiklabs-gcp-01-979b0536901d/tfx_covertype_lab_04]\n",
      "[Skaffold] 8bc04ae3ed61: Preparing\n",
      "[Skaffold] 449ed56d4e49: Preparing\n",
      "[Skaffold] 5dadc0a09248: Preparing\n",
      "[Skaffold] 8fb12d3bda49: Preparing\n",
      "[Skaffold] 2471eac28ba8: Preparing\n",
      "[Skaffold] 674ba689ae71: Preparing\n",
      "[Skaffold] 4058ae03fa32: Preparing\n",
      "[Skaffold] e3437c61d457: Preparing\n",
      "[Skaffold] 84ff92691f90: Preparing\n",
      "[Skaffold] 54b00d861a7a: Preparing\n",
      "[Skaffold] c547358928ab: Preparing\n",
      "[Skaffold] 84ff92691f90: Preparing\n",
      "[Skaffold] c4e66be694ce: Preparing\n",
      "[Skaffold] 47cc65c6dd57: Preparing\n",
      "[Skaffold] 674ba689ae71: Waiting\n",
      "[Skaffold] 4058ae03fa32: Waiting\n",
      "[Skaffold] e3437c61d457: Waiting\n",
      "[Skaffold] 84ff92691f90: Waiting\n",
      "[Skaffold] 54b00d861a7a: Waiting\n",
      "[Skaffold] c547358928ab: Waiting\n",
      "[Skaffold] c4e66be694ce: Waiting\n",
      "[Skaffold] 47cc65c6dd57: Waiting\n",
      "[Skaffold] 8fb12d3bda49: Layer already exists\n",
      "[Skaffold] 5dadc0a09248: Layer already exists\n",
      "[Skaffold] 2471eac28ba8: Layer already exists\n",
      "[Skaffold] 674ba689ae71: Layer already exists\n",
      "[Skaffold] e3437c61d457: Layer already exists\n",
      "[Skaffold] 4058ae03fa32: Layer already exists\n",
      "[Skaffold] 54b00d861a7a: Layer already exists\n",
      "[Skaffold] 84ff92691f90: Layer already exists\n",
      "[Skaffold] c547358928ab: Layer already exists\n",
      "[Skaffold] c4e66be694ce: Layer already exists\n",
      "[Skaffold] 47cc65c6dd57: Layer already exists\n",
      "[Skaffold] 8bc04ae3ed61: Pushed\n",
      "[Skaffold] 449ed56d4e49: Pushed\n",
      "[Skaffold] latest: digest: sha256:ab173d48112baf7f560a829c1e78603bdde66c6afd1145ea98c19a112617bc93 size: 3267\n",
      "[Skaffold] Build [gcr.io/qwiklabs-gcp-01-979b0536901d/tfx_covertype_lab_04] succeeded\n",
      "[Skaffold] \n",
      "[Skaffold] Help improve Skaffold with our 2-minute anonymous survey: run 'skaffold survey'\n",
      "[Skaffold] To help improve the quality of this product, we collect anonymized usage data for details on what is tracked and how we use this data visit <https://skaffold.dev/docs/resources/telemetry/>. This data is handled in accordance with our privacy policy <https://policies.google.com/privacy>\n",
      "[Skaffold] \n",
      "[Skaffold] You may choose to opt out of this collection by running the following command:\n",
      "[Skaffold] \tskaffold config set --global collect-metrics false\n",
      "New container image is built. Target image is available in the build spec file.\n",
      "WARNING:absl:RuntimeParameter is only supported on Cloud-based DAG runner currently.\n",
      "WARNING:absl:RuntimeParameter is only supported on Cloud-based DAG runner currently.\n",
      "WARNING:absl:RuntimeParameter is only supported on Cloud-based DAG runner currently.\n",
      "WARNING:absl:RuntimeParameter is only supported on Cloud-based DAG runner currently.\n",
      "WARNING:absl:`instance_name` is deprecated, please set node id directly using`with_id()` or `.id` setter.\n",
      "WARNING:absl:`instance_name` is deprecated, please set node id directly using`with_id()` or `.id` setter.\n",
      "\u001b[0mPipeline compiled successfully.\n",
      "Pipeline package path: /home/jupyter/mlops-on-gcp/workshops/tfx-caip-tf23/lab-04-tfx-metadata/labs/pipeline/tfx_covertype_lab_04.tar.gz\n",
      "{'created_at': datetime.datetime(2023, 7, 6, 7, 42, 52, tzinfo=tzlocal()),\n",
      " 'default_version': {'code_source_url': None,\n",
      "                     'created_at': datetime.datetime(2023, 7, 6, 7, 42, 52, tzinfo=tzlocal()),\n",
      "                     'description': None,\n",
      "                     'id': 'ba7cd6af-6b35-450e-9206-7099e9ec6a14',\n",
      "                     'name': 'tfx_covertype_lab_04',\n",
      "                     'package_url': None,\n",
      "                     'parameters': [{'name': 'pipeline-root',\n",
      "                                     'value': 'gs://qwiklabs-gcp-01-979b0536901d-kubeflowpipelines-default/tfx_covertype_lab_04/{{workflow.uid}}'},\n",
      "                                    {'name': 'data-root-uri',\n",
      "                                     'value': 'gs://cloud-training/OCBL203/workshop-datasets'},\n",
      "                                    {'name': 'eval-steps', 'value': '500'},\n",
      "                                    {'name': 'train-steps', 'value': '5000'}],\n",
      "                     'resource_references': [{'key': {'id': 'ba7cd6af-6b35-450e-9206-7099e9ec6a14',\n",
      "                                                      'type': 'PIPELINE'},\n",
      "                                              'name': None,\n",
      "                                              'relationship': 'OWNER'}]},\n",
      " 'description': None,\n",
      " 'error': None,\n",
      " 'id': 'ba7cd6af-6b35-450e-9206-7099e9ec6a14',\n",
      " 'name': 'tfx_covertype_lab_04',\n",
      " 'parameters': [{'name': 'pipeline-root',\n",
      "                 'value': 'gs://qwiklabs-gcp-01-979b0536901d-kubeflowpipelines-default/tfx_covertype_lab_04/{{workflow.uid}}'},\n",
      "                {'name': 'data-root-uri',\n",
      "                 'value': 'gs://cloud-training/OCBL203/workshop-datasets'},\n",
      "                {'name': 'eval-steps', 'value': '500'},\n",
      "                {'name': 'train-steps', 'value': '5000'}],\n",
      " 'resource_references': None,\n",
      " 'url': None}\n",
      "Please access the pipeline detail page at https://262ce37f48838f9f-dot-us-central1.pipelines.googleusercontent.com/#/pipelines/details/ba7cd6af-6b35-450e-9206-7099e9ec6a14\n",
      "Pipeline \"tfx_covertype_lab_04\" created successfully.\n"
     ]
    }
   ],
   "source": [
    "!tfx pipeline create  \\\n",
    "--pipeline_path=runner.py \\\n",
    "--endpoint={ENDPOINT} \\\n",
    "--build_target_image={CUSTOM_TFX_IMAGE}"
   ]
  },
  {
   "cell_type": "markdown",
   "metadata": {},
   "source": [
    "(optional) If you make local changes to the pipeline, you can update the deployed package on AI Platform with the following command:"
   ]
  },
  {
   "cell_type": "code",
   "execution_count": null,
   "metadata": {},
   "outputs": [],
   "source": [
    "!tfx pipeline update --pipeline_path runner.py --endpoint {ENDPOINT}"
   ]
  },
  {
   "cell_type": "markdown",
   "metadata": {},
   "source": [
    "#### 2.5 Create and monitor pipeline run"
   ]
  },
  {
   "cell_type": "code",
   "execution_count": null,
   "metadata": {},
   "outputs": [],
   "source": [
    "!tfx run create --pipeline_name={PIPELINE_NAME} --endpoint={ENDPOINT}"
   ]
  },
  {
   "cell_type": "markdown",
   "metadata": {},
   "source": [
    "#### 2.6 Configure Kubernetes port forwarding"
   ]
  },
  {
   "cell_type": "markdown",
   "metadata": {},
   "source": [
    "To enable access to the ML Metadata GRPC server, configure Kubernetes port forwarding.\n",
    "\n",
    "From a JupyterLab terminal, execute the following commands:\n",
    "\n",
    "```\n",
    "gcloud container clusters get-credentials [YOUR CLUSTER] --zone [YOURE CLUSTER ZONE]  \n",
    "kubectl port-forward  service/metadata-grpc-service --namespace [YOUR NAMESPACE] 7000:8080\n",
    "```"
   ]
  },
  {
   "cell_type": "markdown",
   "metadata": {},
   "source": [
    "## Connecting to ML Metadata "
   ]
  },
  {
   "cell_type": "markdown",
   "metadata": {},
   "source": [
    "### Configure ML Metadata GRPC client"
   ]
  },
  {
   "cell_type": "code",
   "execution_count": null,
   "metadata": {},
   "outputs": [],
   "source": [
    "grpc_host = 'localhost'\n",
    "grpc_port = 7000\n",
    "connection_config = metadata_store_pb2.MetadataStoreClientConfig()\n",
    "connection_config.host = grpc_host\n",
    "connection_config.port = grpc_port"
   ]
  },
  {
   "cell_type": "markdown",
   "metadata": {},
   "source": [
    "### Connect to ML Metadata service"
   ]
  },
  {
   "cell_type": "code",
   "execution_count": null,
   "metadata": {},
   "outputs": [],
   "source": [
    "store = metadata_store.MetadataStore(connection_config)"
   ]
  },
  {
   "cell_type": "markdown",
   "metadata": {},
   "source": [
    "### Important\n",
    "\n",
    "A full pipeline run without tuning takes about 40-45 minutes to complete. You need to wait until a pipeline run is complete before proceeding with the steps below."
   ]
  },
  {
   "cell_type": "markdown",
   "metadata": {},
   "source": [
    "## Exploring ML Metadata \n",
    "\n",
    "The Metadata Store uses the following data model:\n",
    "\n",
    "- `ArtifactType` describes an artifact's type and its properties that are stored in the Metadata Store. These types can be registered on-the-fly with the Metadata Store in code, or they can be loaded in the store from a serialized format. Once a type is registered, its definition is available throughout the lifetime of the store.\n",
    "- `Artifact` describes a specific instances of an ArtifactType, and its properties that are written to the Metadata Store.\n",
    "- `ExecutionType` describes a type of component or step in a workflow, and its runtime parameters.\n",
    "- `Execution` is a record of a component run or a step in an ML workflow and the runtime parameters. An Execution can be thought of as an instance of an ExecutionType. Every time a developer runs an ML pipeline or step, executions are recorded for each step.\n",
    "- `Event` is a record of the relationship between an Artifact and Executions. When an Execution happens, Events record every Artifact that was used by the Execution, and every Artifact that was produced. These records allow for provenance tracking throughout a workflow. By looking at all Events MLMD knows what Executions happened, what Artifacts were created as a result, and can recurse back from any Artifact to all of its upstream inputs.\n",
    "- `ContextType` describes a type of conceptual group of Artifacts and Executions in a workflow, and its structural properties. For example: projects, pipeline runs, experiments, owners.\n",
    "- `Context` is an instances of a ContextType. It captures the shared information within the group. For example: project name, changelist commit id, experiment annotations. It has a user-defined unique name within its ContextType.\n",
    "- `Attribution` is a record of the relationship between Artifacts and Contexts.\n",
    "- `Association` is a record of the relationship between Executions and Contexts."
   ]
  },
  {
   "cell_type": "markdown",
   "metadata": {},
   "source": [
    "List the registered artifact types."
   ]
  },
  {
   "cell_type": "code",
   "execution_count": null,
   "metadata": {},
   "outputs": [],
   "source": [
    "for artifact_type in store.get_artifact_types():\n",
    "    print(artifact_type.name)"
   ]
  },
  {
   "cell_type": "markdown",
   "metadata": {},
   "source": [
    "Display the registered execution types."
   ]
  },
  {
   "cell_type": "code",
   "execution_count": null,
   "metadata": {},
   "outputs": [],
   "source": [
    "for execution_type in store.get_execution_types():\n",
    "    print(execution_type.name)"
   ]
  },
  {
   "cell_type": "markdown",
   "metadata": {},
   "source": [
    "List the registered context types."
   ]
  },
  {
   "cell_type": "code",
   "execution_count": null,
   "metadata": {},
   "outputs": [],
   "source": [
    "for context_type in store.get_context_types():\n",
    "    print(context_type.name)"
   ]
  },
  {
   "cell_type": "markdown",
   "metadata": {},
   "source": [
    "## Visualizing TFX artifacts"
   ]
  },
  {
   "cell_type": "markdown",
   "metadata": {},
   "source": [
    "### Retrieve data analysis and validation artifacts"
   ]
  },
  {
   "cell_type": "code",
   "execution_count": null,
   "metadata": {},
   "outputs": [],
   "source": [
    "with metadata.Metadata(connection_config) as store:\n",
    "    schema_artifacts = store.get_artifacts_by_type(standard_artifacts.Schema.TYPE_NAME)    \n",
    "    stats_artifacts = store.get_artifacts_by_type(standard_artifacts.ExampleStatistics.TYPE_NAME)\n",
    "    anomalies_artifacts = store.get_artifacts_by_type(standard_artifacts.ExampleAnomalies.TYPE_NAME)"
   ]
  },
  {
   "cell_type": "code",
   "execution_count": null,
   "metadata": {},
   "outputs": [],
   "source": [
    "schema_file = os.path.join(schema_artifacts[-1].uri, 'schema.pbtxt')\n",
    "print(\"Generated schame file:{}\".format(schema_file))\n",
    "\n",
    "stats_path = stats_artifacts[-1].uri\n",
    "train_stats_file = os.path.join(stats_path, 'train', 'stats_tfrecord')\n",
    "eval_stats_file = os.path.join(stats_path, 'eval', 'stats_tfrecord')\n",
    "print(\"Train stats file:{}, Eval stats file:{}\".format(\n",
    "    train_stats_file, eval_stats_file))\n",
    "\n",
    "anomalies_path = anomalies_artifacts[-1].uri\n",
    "train_anomalies_file = os.path.join(anomalies_path, 'train', 'anomalies.pbtxt')\n",
    "eval_anomalies_file = os.path.join(anomalies_path, 'eval', 'anomalies.pbtxt')\n",
    "\n",
    "print(\"Train anomalies file:{}, Eval anomalies file:{}\".format(\n",
    "    train_anomalies_file, eval_anomalies_file))"
   ]
  },
  {
   "cell_type": "markdown",
   "metadata": {},
   "source": [
    "### Visualize schema"
   ]
  },
  {
   "cell_type": "code",
   "execution_count": null,
   "metadata": {},
   "outputs": [],
   "source": [
    "schema = tfdv.load_schema_text(schema_file)\n",
    "tfdv.display_schema(schema=schema)"
   ]
  },
  {
   "cell_type": "markdown",
   "metadata": {},
   "source": [
    "### Visualize statistics"
   ]
  },
  {
   "cell_type": "markdown",
   "metadata": {},
   "source": [
    "#### Exercise: looking at the features visualized below, answer the following questions:\n",
    "\n",
    "- Which feature transformations would you apply to each feature with TF Transform?\n",
    "- Are there data quality issues with certain features that may impact your model performance? How might you deal with it?"
   ]
  },
  {
   "cell_type": "code",
   "execution_count": null,
   "metadata": {},
   "outputs": [],
   "source": [
    "train_stats = tfdv.load_statistics(train_stats_file)\n",
    "eval_stats = tfdv.load_statistics(eval_stats_file)\n",
    "tfdv.visualize_statistics(lhs_statistics=eval_stats, rhs_statistics=train_stats,\n",
    "                          lhs_name='EVAL_DATASET', rhs_name='TRAIN_DATASET')"
   ]
  },
  {
   "cell_type": "markdown",
   "metadata": {},
   "source": [
    "### Visualize anomalies"
   ]
  },
  {
   "cell_type": "code",
   "execution_count": null,
   "metadata": {},
   "outputs": [],
   "source": [
    "train_anomalies = tfdv.load_anomalies_text(train_anomalies_file)\n",
    "tfdv.display_anomalies(train_anomalies)"
   ]
  },
  {
   "cell_type": "code",
   "execution_count": null,
   "metadata": {},
   "outputs": [],
   "source": [
    "eval_anomalies = tfdv.load_anomalies_text(eval_anomalies_file)\n",
    "tfdv.display_anomalies(eval_anomalies)"
   ]
  },
  {
   "cell_type": "markdown",
   "metadata": {},
   "source": [
    "### Retrieve model artifacts"
   ]
  },
  {
   "cell_type": "code",
   "execution_count": null,
   "metadata": {},
   "outputs": [],
   "source": [
    "with metadata.Metadata(connection_config) as store:\n",
    "    model_eval_artifacts = store.get_artifacts_by_type(standard_artifacts.ModelEvaluation.TYPE_NAME)\n",
    "    hyperparam_artifacts = store.get_artifacts_by_type(standard_artifacts.HyperParameters.TYPE_NAME)\n",
    "    \n",
    "model_eval_path = model_eval_artifacts[-1].uri\n",
    "print(\"Generated model evaluation result:{}\".format(model_eval_path))\n",
    "best_hparams_path = os.path.join(hyperparam_artifacts[-1].uri, 'best_hyperparameters.txt')\n",
    "print(\"Generated model best hyperparameters result:{}\".format(best_hparams_path))"
   ]
  },
  {
   "cell_type": "markdown",
   "metadata": {},
   "source": [
    "### Return best hyperparameters"
   ]
  },
  {
   "cell_type": "code",
   "execution_count": null,
   "metadata": {},
   "outputs": [],
   "source": [
    "# Latest pipeline run Tuner search space.\n",
    "json.loads(file_io.read_file_to_string(best_hparams_path))['space']"
   ]
  },
  {
   "cell_type": "code",
   "execution_count": null,
   "metadata": {},
   "outputs": [],
   "source": [
    "# Latest pipeline run Tuner searched best_hyperparameters artifacts.\n",
    "json.loads(file_io.read_file_to_string(best_hparams_path))['values']"
   ]
  },
  {
   "cell_type": "markdown",
   "metadata": {},
   "source": [
    "### Visualize model evaluations"
   ]
  },
  {
   "cell_type": "markdown",
   "metadata": {},
   "source": [
    "#### Exercise: review the model evaluation results below and answer the following questions:\n",
    "\n",
    "- Which Wilderness Area had the highest accuracy?\n",
    "- Which Wilderness Area had the lowest performance? Why do you think that is? What are some steps you could take to improve your next model runs?"
   ]
  },
  {
   "cell_type": "code",
   "execution_count": null,
   "metadata": {},
   "outputs": [],
   "source": [
    "eval_result = tfma.load_eval_result(model_eval_path)\n",
    "tfma.view.render_slicing_metrics(\n",
    "    eval_result, slicing_column='Wilderness_Area')"
   ]
  },
  {
   "cell_type": "markdown",
   "metadata": {},
   "source": [
    "**Debugging tip**: If the TFMA visualization of the Evaluator results do not render, try switching to view in a Classic Jupyter Notebook. You do so by clicking `Help > Launch Classic Notebook` and re-opening the notebook and running the above cell to see the interactive TFMA results."
   ]
  },
  {
   "cell_type": "markdown",
   "metadata": {},
   "source": [
    "## License"
   ]
  },
  {
   "cell_type": "markdown",
   "metadata": {},
   "source": [
    "<font size=-1>Licensed under the Apache License, Version 2.0 (the \\\"License\\\");\n",
    "you may not use this file except in compliance with the License.\n",
    "You may obtain a copy of the License at [https://www.apache.org/licenses/LICENSE-2.0](https://www.apache.org/licenses/LICENSE-2.0)\n",
    "\n",
    "Unless required by applicable law or agreed to in writing, software distributed under the License is distributed on an \\\"AS IS\\\" BASIS, WITHOUT WARRANTIES OR CONDITIONS OF ANY KIND, either express or implied.  See the License for the specific language governing permissions and limitations under the License.</font>\n"
   ]
  }
 ],
 "metadata": {
  "environment": {
   "kernel": "conda-root-py",
   "name": "tf2-cpu.2-3.m87",
   "type": "gcloud",
   "uri": "gcr.io/deeplearning-platform-release/tf2-cpu.2-3:m87"
  },
  "kernelspec": {
   "display_name": "Python [conda env:root] *",
   "language": "python",
   "name": "conda-root-py"
  },
  "language_info": {
   "codemirror_mode": {
    "name": "ipython",
    "version": 3
   },
   "file_extension": ".py",
   "mimetype": "text/x-python",
   "name": "python",
   "nbconvert_exporter": "python",
   "pygments_lexer": "ipython3",
   "version": "3.7.12"
  }
 },
 "nbformat": 4,
 "nbformat_minor": 4
}
